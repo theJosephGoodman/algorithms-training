{
 "cells": [
  {
   "cell_type": "markdown",
   "metadata": {},
   "source": [
    "## Проверка слова на палиндром"
   ]
  },
  {
   "cell_type": "code",
   "execution_count": 2,
   "metadata": {},
   "outputs": [],
   "source": [
    "# Напиши функцию, которая проверяет,\n",
    "# является ли строка палиндромом\n",
    "# (читается одинаково слева направо и справа налево).\n",
    "# Игнорируй пробелы, знаки препинания и регистр букв.\n",
    "\n",
    "tests_positive = [\"казак\",\n",
    "\"шалаш\",\n",
    "\"деД\",\n",
    "\"Ротор\",\n",
    "\"топот\"]\n",
    "tests_negative = ['мама',\n",
    "                  \"машина\",\n",
    "                  \"Салам\",\n",
    "                  \"\",\n",
    "                  \"ахахахааа\"]"
   ]
  },
  {
   "cell_type": "code",
   "execution_count": 21,
   "metadata": {},
   "outputs": [],
   "source": [
    "# 1 пример решения(идем с обоих концов и сравниваем начало и конец - так доходим до середины)\n",
    "def foo(word:str ) -> bool:\n",
    "    if len(word) == 0:\n",
    "        return False\n",
    "    word_in = word.lower()\n",
    "    for i in range(len(word_in)//2):\n",
    "        # print(f\"i={i}, {word[i]} - {word[-1-i]}\")\n",
    "        if word_in[i] != word_in[-1-i]:\n",
    "            return False\n",
    "    return True"
   ]
  },
  {
   "cell_type": "markdown",
   "metadata": {},
   "source": [
    "## Нахождение второго по величине числа"
   ]
  },
  {
   "cell_type": "code",
   "execution_count": 43,
   "metadata": {},
   "outputs": [],
   "source": [
    "test_cases = [\n",
    "    ([1,2,3,4,5,6,7], 6),\n",
    "    ([-123, 12312, 12312, 12312, 399999], 12312),\n",
    "    ([3, 1, 4, 1, 5, 9], 5),\n",
    "    ([-99999, 0], -99999),\n",
    "    ([1,1,1,1,1,2], 1),\n",
    "    ([1,1,1,1,1,1,1], None)\n",
    "]"
   ]
  },
  {
   "cell_type": "code",
   "execution_count": 36,
   "metadata": {},
   "outputs": [],
   "source": [
    "# 1 вариант - идти по списку по принципу нахождения самого большего числа и попутно сохранять предыдущее число\n",
    "def second_to_largest(nums:list[int]) -> int:\n",
    "    max_val = float('-inf')\n",
    "    second_val = float('-inf')\n",
    "    for i in nums:\n",
    "        if i > max_val:\n",
    "            second_val = max_val\n",
    "            max_val = i\n",
    "    return second_val"
   ]
  },
  {
   "cell_type": "markdown",
   "metadata": {},
   "source": [
    "## Сумма уникальных чисел\n",
    "Напиши функцию, которая принимает список чисел и возвращает сумму только уникальных чисел (тех, которые встречаются в списке один раз)."
   ]
  },
  {
   "cell_type": "code",
   "execution_count": 81,
   "metadata": {},
   "outputs": [],
   "source": [
    "def sum_of_uniques(nums: list[int]) -> int:\n",
    "    count_dict = {i:nums.count(i) for i in set(nums)}\n",
    "    total_sum = 0\n",
    "    for i in count_dict.items():\n",
    "        if i[1] == 1:\n",
    "            total_sum+= i[0] \n",
    "    return total_sum\n",
    "\n",
    "# Пример:\n",
    "# Вход: [1, 2, 3, 2, 4, 1]\n",
    "# Выход: 7  # (3 + 4)"
   ]
  },
  {
   "cell_type": "markdown",
   "metadata": {},
   "source": [
    "## Факториал числа\n",
    "Напиши функцию, которая вычисляет факториал числа рекурсивно."
   ]
  },
  {
   "cell_type": "code",
   "execution_count": 87,
   "metadata": {},
   "outputs": [],
   "source": [
    "# n!=1⋅2⋅3⋅...⋅n\n",
    "\n",
    "def factorial(n: int) -> int:\n",
    "    if n < 0:\n",
    "        return None\n",
    "    if n==0:\n",
    "        return 1\n",
    "    if n == 1:\n",
    "        return 1\n",
    "    return n * factorial(n-1)\n",
    "    \n",
    "# Пример:\n",
    "# Вход: 5\n",
    "# Выход: 120  # (5 * 4 * 3 * 2 * 1)"
   ]
  },
  {
   "cell_type": "markdown",
   "metadata": {},
   "source": [
    "## Фибоначи до N\n",
    "Напиши функцию, которая возвращает список чисел Фибоначчи, не превышающих заданное число n."
   ]
  },
  {
   "cell_type": "code",
   "execution_count": 93,
   "metadata": {},
   "outputs": [],
   "source": [
    "def fibonacci(value:int) -> int:\n",
    "    if value == 0:\n",
    "        return 0\n",
    "    if value == 1:\n",
    "        return 1\n",
    "    return fibonacci(value-1) + fibonacci(value-2)"
   ]
  },
  {
   "cell_type": "markdown",
   "metadata": {},
   "source": [
    "## Проверка на анаграммы\n",
    "Напиши функцию, которая проверяет, являются ли две строки анаграммами (содержат одинаковые буквы в разном порядке)."
   ]
  },
  {
   "cell_type": "code",
   "execution_count": 101,
   "metadata": {},
   "outputs": [],
   "source": [
    "test_positve = [\n",
    "   ('нос' , 'сон'),\n",
    "('кот' , 'ток'),\n",
    "('пост' , 'стоп'),\n",
    "('рост' , 'торс'),\n",
    "('порт' , 'троп'),\n",
    "\n",
    "('слиток' , 'листок'),\n",
    "('пятак' , 'капот'),\n",
    "('торг' , 'горт'),\n",
    "('карта' , 'трака')\n",
    "]"
   ]
  },
  {
   "cell_type": "code",
   "execution_count": 106,
   "metadata": {},
   "outputs": [],
   "source": [
    "def are_anagrams(s1: str, s2: str) -> bool:\n",
    "    s1 = set(s1.lower())\n",
    "    s2 = set(s2.lower())\n",
    "    \n",
    "    if s1 == s2:\n",
    "        return True\n",
    "    else:\n",
    "        return False"
   ]
  },
  {
   "cell_type": "code",
   "execution_count": 108,
   "metadata": {},
   "outputs": [
    {
     "data": {
      "text/plain": [
       "[True, True, True, True, True, True, False, True, True]"
      ]
     },
     "execution_count": 108,
     "metadata": {},
     "output_type": "execute_result"
    }
   ],
   "source": [
    "[are_anagrams(i[0], i[1]) for i in test_positve] # работает корректно. нашел даже ошибку в тест-кейсах"
   ]
  },
  {
   "cell_type": "code",
   "execution_count": null,
   "metadata": {},
   "outputs": [],
   "source": []
  }
 ],
 "metadata": {
  "kernelspec": {
   "display_name": "base",
   "language": "python",
   "name": "python3"
  },
  "language_info": {
   "codemirror_mode": {
    "name": "ipython",
    "version": 3
   },
   "file_extension": ".py",
   "mimetype": "text/x-python",
   "name": "python",
   "nbconvert_exporter": "python",
   "pygments_lexer": "ipython3",
   "version": "3.12.7"
  }
 },
 "nbformat": 4,
 "nbformat_minor": 2
}
