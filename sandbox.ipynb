{
 "cells": [
  {
   "cell_type": "markdown",
   "metadata": {},
   "source": [
    "## Проверка слова на палиндром"
   ]
  },
  {
   "cell_type": "code",
   "execution_count": 2,
   "metadata": {},
   "outputs": [],
   "source": [
    "# Напиши функцию, которая проверяет,\n",
    "# является ли строка палиндромом\n",
    "# (читается одинаково слева направо и справа налево).\n",
    "# Игнорируй пробелы, знаки препинания и регистр букв.\n",
    "\n",
    "tests_positive = [\"казак\",\n",
    "\"шалаш\",\n",
    "\"деД\",\n",
    "\"Ротор\",\n",
    "\"топот\"]\n",
    "tests_negative = ['мама',\n",
    "                  \"машина\",\n",
    "                  \"Салам\",\n",
    "                  \"\",\n",
    "                  \"ахахахааа\"]"
   ]
  },
  {
   "cell_type": "code",
   "execution_count": 21,
   "metadata": {},
   "outputs": [],
   "source": [
    "# 1 пример решения(идем с обоих концов и сравниваем начало и конец - так доходим до середины)\n",
    "def foo(word:str ) -> bool:\n",
    "    if len(word) == 0:\n",
    "        return False\n",
    "    word_in = word.lower()\n",
    "    for i in range(len(word_in)//2):\n",
    "        # print(f\"i={i}, {word[i]} - {word[-1-i]}\")\n",
    "        if word_in[i] != word_in[-1-i]:\n",
    "            return False\n",
    "    return True"
   ]
  },
  {
   "cell_type": "markdown",
   "metadata": {},
   "source": [
    "## Нахождение второго по величине числа"
   ]
  },
  {
   "cell_type": "code",
   "execution_count": 43,
   "metadata": {},
   "outputs": [],
   "source": [
    "test_cases = [\n",
    "    ([1,2,3,4,5,6,7], 6),\n",
    "    ([-123, 12312, 12312, 12312, 399999], 12312),\n",
    "    ([3, 1, 4, 1, 5, 9], 5),\n",
    "    ([-99999, 0], -99999),\n",
    "    ([1,1,1,1,1,2], 1),\n",
    "    ([1,1,1,1,1,1,1], None)\n",
    "]"
   ]
  },
  {
   "cell_type": "code",
   "execution_count": 36,
   "metadata": {},
   "outputs": [],
   "source": [
    "# 1 вариант - идти по списку по принципу нахождения самого большего числа и попутно сохранять предыдущее число\n",
    "def second_to_largest(nums:list[int]) -> int:\n",
    "    max_val = float('-inf')\n",
    "    second_val = float('-inf')\n",
    "    for i in nums:\n",
    "        if i > max_val:\n",
    "            second_val = max_val\n",
    "            max_val = i\n",
    "    return second_val"
   ]
  }
 ],
 "metadata": {
  "kernelspec": {
   "display_name": "base",
   "language": "python",
   "name": "python3"
  },
  "language_info": {
   "codemirror_mode": {
    "name": "ipython",
    "version": 3
   },
   "file_extension": ".py",
   "mimetype": "text/x-python",
   "name": "python",
   "nbconvert_exporter": "python",
   "pygments_lexer": "ipython3",
   "version": "3.12.7"
  }
 },
 "nbformat": 4,
 "nbformat_minor": 2
}
