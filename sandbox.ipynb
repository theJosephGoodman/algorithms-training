{
 "cells": [
  {
   "cell_type": "markdown",
   "metadata": {},
   "source": [
    "## Проверка слова на палиндром"
   ]
  },
  {
   "cell_type": "code",
   "execution_count": 2,
   "metadata": {},
   "outputs": [],
   "source": [
    "# Напиши функцию, которая проверяет,\n",
    "# является ли строка палиндромом\n",
    "# (читается одинаково слева направо и справа налево).\n",
    "# Игнорируй пробелы, знаки препинания и регистр букв.\n",
    "\n",
    "tests_positive = [\"казак\",\n",
    "\"шалаш\",\n",
    "\"деД\",\n",
    "\"Ротор\",\n",
    "\"топот\"]\n",
    "tests_negative = ['мама',\n",
    "                  \"машина\",\n",
    "                  \"Салам\",\n",
    "                  \"\",\n",
    "                  \"ахахахааа\"]"
   ]
  },
  {
   "cell_type": "code",
   "execution_count": 21,
   "metadata": {},
   "outputs": [],
   "source": [
    "# 1 пример решения(идем с обоих концов и сравниваем начало и конец - так доходим до середины)\n",
    "def foo(word:str ) -> bool:\n",
    "    if len(word) == 0:\n",
    "        return False\n",
    "    word_in = word.lower()\n",
    "    for i in range(len(word_in)//2):\n",
    "        # print(f\"i={i}, {word[i]} - {word[-1-i]}\")\n",
    "        if word_in[i] != word_in[-1-i]:\n",
    "            return False\n",
    "    return True"
   ]
  },
  {
   "cell_type": "markdown",
   "metadata": {},
   "source": [
    "## Нахождение второго по величине числа"
   ]
  },
  {
   "cell_type": "code",
   "execution_count": 43,
   "metadata": {},
   "outputs": [],
   "source": [
    "test_cases = [\n",
    "    ([1,2,3,4,5,6,7], 6),\n",
    "    ([-123, 12312, 12312, 12312, 399999], 12312),\n",
    "    ([3, 1, 4, 1, 5, 9], 5),\n",
    "    ([-99999, 0], -99999),\n",
    "    ([1,1,1,1,1,2], 1),\n",
    "    ([1,1,1,1,1,1,1], None)\n",
    "]"
   ]
  },
  {
   "cell_type": "code",
   "execution_count": 36,
   "metadata": {},
   "outputs": [],
   "source": [
    "# 1 вариант - идти по списку по принципу нахождения самого большего числа и попутно сохранять предыдущее число\n",
    "def second_to_largest(nums:list[int]) -> int:\n",
    "    max_val = float('-inf')\n",
    "    second_val = float('-inf')\n",
    "    for i in nums:\n",
    "        if i > max_val:\n",
    "            second_val = max_val\n",
    "            max_val = i\n",
    "    return second_val"
   ]
  },
  {
   "cell_type": "markdown",
   "metadata": {},
   "source": [
    "## Сумма уникальных чисел\n",
    "Напиши функцию, которая принимает список чисел и возвращает сумму только уникальных чисел (тех, которые встречаются в списке один раз)."
   ]
  },
  {
   "cell_type": "code",
   "execution_count": 81,
   "metadata": {},
   "outputs": [],
   "source": [
    "def sum_of_uniques(nums: list[int]) -> int:\n",
    "    count_dict = {i:nums.count(i) for i in set(nums)}\n",
    "    total_sum = 0\n",
    "    for i in count_dict.items():\n",
    "        if i[1] == 1:\n",
    "            total_sum+= i[0] \n",
    "    return total_sum\n",
    "\n",
    "# Пример:\n",
    "# Вход: [1, 2, 3, 2, 4, 1]\n",
    "# Выход: 7  # (3 + 4)"
   ]
  },
  {
   "cell_type": "markdown",
   "metadata": {},
   "source": [
    "## Факториал числа\n",
    "Напиши функцию, которая вычисляет факториал числа рекурсивно."
   ]
  },
  {
   "cell_type": "code",
   "execution_count": 87,
   "metadata": {},
   "outputs": [],
   "source": [
    "# n!=1⋅2⋅3⋅...⋅n\n",
    "\n",
    "def factorial(n: int) -> int:\n",
    "    if n < 0:\n",
    "        return None\n",
    "    if n==0:\n",
    "        return 1\n",
    "    if n == 1:\n",
    "        return 1\n",
    "    return n * factorial(n-1)\n",
    "    \n",
    "# Пример:\n",
    "# Вход: 5\n",
    "# Выход: 120  # (5 * 4 * 3 * 2 * 1)"
   ]
  },
  {
   "cell_type": "markdown",
   "metadata": {},
   "source": [
    "## Фибоначи до N\n",
    "Напиши функцию, которая возвращает список чисел Фибоначчи, не превышающих заданное число n."
   ]
  },
  {
   "cell_type": "code",
   "execution_count": 93,
   "metadata": {},
   "outputs": [],
   "source": [
    "def fibonacci(value:int) -> int:\n",
    "    if value == 0:\n",
    "        return 0\n",
    "    if value == 1:\n",
    "        return 1\n",
    "    return fibonacci(value-1) + fibonacci(value-2)"
   ]
  },
  {
   "cell_type": "markdown",
   "metadata": {},
   "source": [
    "## Проверка на анаграммы\n",
    "Напиши функцию, которая проверяет, являются ли две строки анаграммами (содержат одинаковые буквы в разном порядке)."
   ]
  },
  {
   "cell_type": "code",
   "execution_count": 101,
   "metadata": {},
   "outputs": [],
   "source": [
    "test_positve = [\n",
    "   ('нос' , 'сон'),\n",
    "('кот' , 'ток'),\n",
    "('пост' , 'стоп'),\n",
    "('рост' , 'торс'),\n",
    "('порт' , 'троп'),\n",
    "\n",
    "('слиток' , 'листок'),\n",
    "('пятак' , 'капот'),\n",
    "('торг' , 'горт'),\n",
    "('карта' , 'трака')\n",
    "]"
   ]
  },
  {
   "cell_type": "code",
   "execution_count": 106,
   "metadata": {},
   "outputs": [],
   "source": [
    "def are_anagrams(s1: str, s2: str) -> bool:\n",
    "    s1 = set(s1.lower())\n",
    "    s2 = set(s2.lower())\n",
    "    \n",
    "    if s1 == s2:\n",
    "        return True\n",
    "    else:\n",
    "        return False"
   ]
  },
  {
   "cell_type": "code",
   "execution_count": 108,
   "metadata": {},
   "outputs": [
    {
     "data": {
      "text/plain": [
       "[True, True, True, True, True, True, False, True, True]"
      ]
     },
     "execution_count": 108,
     "metadata": {},
     "output_type": "execute_result"
    }
   ],
   "source": [
    "[are_anagrams(i[0], i[1]) for i in test_positve] # работает корректно. нашел даже ошибку в тест-кейсах"
   ]
  },
  {
   "cell_type": "markdown",
   "metadata": {},
   "source": [
    "## Обратный список\n",
    "Напиши функцию, которая принимает список чисел и возвращает его в обратном порядке (без использования встроенной функции reversed)."
   ]
  },
  {
   "cell_type": "code",
   "execution_count": 114,
   "metadata": {},
   "outputs": [],
   "source": [
    "def reverse_list(nums: list[int]) -> list[int]:\n",
    "    return nums[::-1]\n",
    "\n",
    "# Пример:\n",
    "# Вход: [1, 2, 3, 4]\n",
    "# Выход: [4, 3, 2, 1]"
   ]
  },
  {
   "cell_type": "code",
   "execution_count": 115,
   "metadata": {},
   "outputs": [
    {
     "data": {
      "text/plain": [
       "[4, 3, 2, 1]"
      ]
     },
     "execution_count": 115,
     "metadata": {},
     "output_type": "execute_result"
    }
   ],
   "source": [
    "reverse_list([1, 2, 3, 4])"
   ]
  },
  {
   "cell_type": "code",
   "execution_count": 130,
   "metadata": {},
   "outputs": [],
   "source": [
    "def reverse_list2(nums: list[int]) -> list[int]:\n",
    "    result = []\n",
    "    for i in range(len(nums)-1, -1, -1):\n",
    "        result.append(nums[i])\n",
    "    return result"
   ]
  },
  {
   "cell_type": "code",
   "execution_count": 131,
   "metadata": {},
   "outputs": [
    {
     "data": {
      "text/plain": [
       "[4, 3, 2, 1]"
      ]
     },
     "execution_count": 131,
     "metadata": {},
     "output_type": "execute_result"
    }
   ],
   "source": [
    "reverse_list2([1, 2, 3, 4])"
   ]
  },
  {
   "cell_type": "markdown",
   "metadata": {},
   "source": [
    "## Two Sum\n",
    "Учитывая массив целых чисел nums и целочисленное целевое значение, верните индексы двух чисел таким образом, чтобы они в сумме равнялись целевому значению.\n",
    "\n",
    "Вы можете предположить, что каждый ввод будет содержать ровно одно решение, и вы не можете использовать один и тот же элемент дважды.\n",
    "\n",
    "Вы можете вернуть ответ в любом порядке."
   ]
  },
  {
   "cell_type": "code",
   "execution_count": 1,
   "metadata": {},
   "outputs": [],
   "source": [
    "# Example 1:\n",
    "\n",
    "# Input: nums = [2,7,11,15], target = 9\n",
    "# Output: [0,1]\n",
    "# Explanation: Because nums[0] + nums[1] == 9, we return [0, 1].\n",
    "\n",
    "# Example 2:\n",
    "# Input: nums = [3,2,4], target = 6\n",
    "# Output: [1,2]\n",
    "\n",
    "# Example 3:\n",
    "# Input: nums = [3,3], target = 6\n",
    "# Output: [0,1]"
   ]
  },
  {
   "cell_type": "code",
   "execution_count": 14,
   "metadata": {},
   "outputs": [],
   "source": [
    "def twoSum(nums: list[int], target: int) -> list[int]:\n",
    "    for i in range(len(nums)-1):\n",
    "        for j in range(i+1, len(nums)):\n",
    "            if nums[i] + nums[j] == target:\n",
    "                return [i, j]\n",
    "    print('Не удалось найти')    "
   ]
  },
  {
   "cell_type": "code",
   "execution_count": 17,
   "metadata": {},
   "outputs": [],
   "source": [
    "# более эффективное решение с ипользованием hashmap\n",
    "def twoSum2(nums: list[int], target: int) -> list[int]:\n",
    "    hashmap = {}\n",
    "    \n",
    "    for i in range(len(nums)):\n",
    "        searched_value = target - nums[i]\n",
    "        \n",
    "        if searched_value in hashmap:\n",
    "            return  [hashmap[searched_value], i]\n",
    "        else:\n",
    "            hashmap[nums[i]] = i\n",
    "    return []"
   ]
  },
  {
   "cell_type": "markdown",
   "metadata": {},
   "source": [
    "## Palindrome Number\n",
    "Given an integer x, return true if x is a \n",
    "palindrome\n",
    ", and false otherwise.\n",
    "\n",
    " \n",
    "\n",
    "Example 1:\n",
    "\n",
    "Input: x = 121\n",
    "Output: true\n",
    "Explanation: 121 reads as 121 from left to right and from right to left.\n",
    "\n",
    "Example 2:\n",
    "\n",
    "Input: x = -121\n",
    "Output: false\n",
    "Explanation: From left to right, it reads -121. From right to left, it becomes 121-. Therefore it is not a palindrome.\n",
    "\n",
    "Example 3:\n",
    "\n",
    "Input: x = 10\n",
    "Output: false\n",
    "Explanation: Reads 01 from right to left. Therefore it is not a palindrome."
   ]
  },
  {
   "cell_type": "code",
   "execution_count": null,
   "metadata": {},
   "outputs": [],
   "source": [
    "class Solution:\n",
    "    def isPalindrome(self, x: int) -> bool:\n",
    "        if x<0:\n",
    "            return False\n",
    "        x=  str(x)\n",
    "        if len(x) == 1:\n",
    "            return True\n",
    "        for i in range(len(x)//2):\n",
    "            if x[i] != x[-1-i]:\n",
    "                return False\n",
    "        return True"
   ]
  },
  {
   "cell_type": "markdown",
   "metadata": {},
   "source": [
    "## Longest Common Prefix\n",
    "Write a function to find the longest common prefix string amongst an array of strings.\n",
    "\n",
    "If there is no common prefix, return an empty string \"\".\n",
    "\n",
    "\n",
    "Example 1:\n",
    "\n",
    "Input: strs = [\"flower\",\"flow\",\"flight\"]\n",
    "Output: \"fl\"\n",
    "\n",
    "\n",
    "Example 2:\n",
    "\n",
    "Input: strs = [\"dog\",\"racecar\",\"car\"]\n",
    "Output: \"\"\n",
    "Explanation: There is no common prefix among the input strings."
   ]
  },
  {
   "cell_type": "code",
   "execution_count": null,
   "metadata": {},
   "outputs": [],
   "source": [
    "from typing import List\n",
    "\n",
    "class Solution:\n",
    "    def longestCommonPrefix(self, strs: List[str]) -> str:\n",
    "        common_len = min([len(i) for i in strs])\n",
    "        common_prefix = ''\n",
    "        for i in range(common_len):\n",
    "            for cur_str in strs:\n",
    "                temp_letter = strs[0][i]\n",
    "                if cur_str[i] == temp_letter:\n",
    "                    pass\n",
    "                else:\n",
    "                    return common_prefix\n",
    "            common_prefix = common_prefix + temp_letter\n",
    "        return common_prefix\n",
    "                "
   ]
  }
 ],
 "metadata": {
  "kernelspec": {
   "display_name": "base",
   "language": "python",
   "name": "python3"
  },
  "language_info": {
   "codemirror_mode": {
    "name": "ipython",
    "version": 3
   },
   "file_extension": ".py",
   "mimetype": "text/x-python",
   "name": "python",
   "nbconvert_exporter": "python",
   "pygments_lexer": "ipython3",
   "version": "3.12.7"
  }
 },
 "nbformat": 4,
 "nbformat_minor": 2
}
